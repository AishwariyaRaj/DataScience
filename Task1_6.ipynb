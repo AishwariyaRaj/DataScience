{
  "nbformat": 4,
  "nbformat_minor": 0,
  "metadata": {
    "colab": {
      "provenance": [],
      "authorship_tag": "ABX9TyOdbgqthwE0+mZYpoNUajuN",
      "include_colab_link": true
    },
    "kernelspec": {
      "name": "python3",
      "display_name": "Python 3"
    },
    "language_info": {
      "name": "python"
    }
  },
  "cells": [
    {
      "cell_type": "markdown",
      "metadata": {
        "id": "view-in-github",
        "colab_type": "text"
      },
      "source": [
        "<a href=\"https://colab.research.google.com/github/AishwariyaRaj/DataScience/blob/main/Task1_6.ipynb\" target=\"_parent\"><img src=\"https://colab.research.google.com/assets/colab-badge.svg\" alt=\"Open In Colab\"/></a>"
      ]
    },
    {
      "cell_type": "markdown",
      "source": [
        "**TASK1-**4  (**6** QUESTION)"
      ],
      "metadata": {
        "id": "7WHhcQbMS4F1"
      }
    },
    {
      "cell_type": "markdown",
      "source": [
        "**TASK - 2,QUESTION - 1**"
      ],
      "metadata": {
        "id": "QtoyS-jPbBxX"
      }
    },
    {
      "cell_type": "markdown",
      "source": [
        "**IMPORTING LIBRARY FUNCTION**"
      ],
      "metadata": {
        "id": "6RX2JFJ3UIDg"
      }
    },
    {
      "cell_type": "code",
      "source": [
        "import pandas as pd\n",
        "import numpy as np\n",
        "import matplotlib.pyplot as plt"
      ],
      "metadata": {
        "id": "tqsRPcN9URFI"
      },
      "execution_count": null,
      "outputs": []
    },
    {
      "cell_type": "markdown",
      "source": [
        "1.i) Write a NumPy program to convert a list and tuple into arrays"
      ],
      "metadata": {
        "id": "59cnoJXgT-Kz"
      }
    },
    {
      "cell_type": "code",
      "source": [
        "my_list = [1, 2, 3, 4, 5]\n",
        "array_from_list = np.array(my_list)\n",
        "\n",
        "# Convert a tuple to a NumPy array\n",
        "my_tuple = (6, 7, 8, 9, 10)\n",
        "array_from_tuple = np.array(my_tuple)\n",
        "\n",
        "print(\"Array from list:\", array_from_list)\n",
        "print(\"Array from tuple:\", array_from_tuple)"
      ],
      "metadata": {
        "id": "kD48ma2WS143",
        "colab": {
          "base_uri": "https://localhost:8080/"
        },
        "outputId": "38068be9-d4f4-426a-f5b1-c47f1a971919"
      },
      "execution_count": null,
      "outputs": [
        {
          "output_type": "stream",
          "name": "stdout",
          "text": [
            "Array from list: [1 2 3 4 5]\n",
            "Array from tuple: [ 6  7  8  9 10]\n"
          ]
        }
      ]
    },
    {
      "cell_type": "markdown",
      "source": [
        "ii)Write a NumPy program to convert the values of Centigrade degrees into Fahrenheit\n",
        "degrees and vice versa. Values have to be stored into a NumPy array"
      ],
      "metadata": {
        "id": "MkapE4wbSefw"
      }
    },
    {
      "cell_type": "code",
      "source": [
        "def celsius_to_fahrenheit(celsius_array):\n",
        "    return (celsius_array * 9/5) + 32\n",
        "def fahrenheit_to_celsius(fahrenheit_array):\n",
        "    return (fahrenheit_array - 32) * 5/9\n",
        "celsius_values = np.array([0, 25, 37.5, 100])\n",
        "fahrenheit_values = celsius_to_fahrenheit(celsius_values)\n",
        "celsius_values_back = fahrenheit_to_celsius(fahrenheit_values)\n",
        "\n",
        "print(\"Centigrade to Fahrenheit:\", fahrenheit_values)\n",
        "print(\"Fahrenheit to Centigrade:\", celsius_values_back)"
      ],
      "metadata": {
        "colab": {
          "base_uri": "https://localhost:8080/"
        },
        "id": "4uFkV8lxTqd4",
        "outputId": "74f6d81d-a02b-4671-8e92-6cf95bcecd09"
      },
      "execution_count": null,
      "outputs": [
        {
          "output_type": "stream",
          "name": "stdout",
          "text": [
            "Centigrade to Fahrenheit: [ 32.   77.   99.5 212. ]\n",
            "Fahrenheit to Centigrade: [  0.   25.   37.5 100. ]\n"
          ]
        }
      ]
    },
    {
      "cell_type": "markdown",
      "source": [
        "**TASK - 3, QUESTION - 16**"
      ],
      "metadata": {
        "id": "Y6tk3cnObb7T"
      }
    },
    {
      "cell_type": "markdown",
      "source": [
        "2)Write a Pandas program to check for inequality of two given DataFrames."
      ],
      "metadata": {
        "id": "tFHGgU_YTv6Z"
      }
    },
    {
      "cell_type": "code",
      "source": [
        "df1 = pd.DataFrame({'A': [1, 2, 3], 'B': ['X', 'Y', 'Z']})\n",
        "df2 = pd.DataFrame({'A': [1, 2, 4], 'B': ['X', 'Y', 'W']})\n",
        "\n",
        "# Check for inequality\n",
        "inequality_check = df1.ne(df2)\n",
        "\n",
        "print(\"Original DataFrame 1:\")\n",
        "print(df1)\n",
        "print(\"\\nOriginal DataFrame 2:\")\n",
        "print(df2)\n",
        "print(\"\\nInequality Check:\")\n",
        "print(inequality_check)"
      ],
      "metadata": {
        "colab": {
          "base_uri": "https://localhost:8080/"
        },
        "id": "VCAZySK4UD9D",
        "outputId": "73dd310d-2c88-455c-98bb-4cb345461360"
      },
      "execution_count": null,
      "outputs": [
        {
          "output_type": "stream",
          "name": "stdout",
          "text": [
            "Original DataFrame 1:\n",
            "   A  B\n",
            "0  1  X\n",
            "1  2  Y\n",
            "2  3  Z\n",
            "\n",
            "Original DataFrame 2:\n",
            "   A  B\n",
            "0  1  X\n",
            "1  2  Y\n",
            "2  4  W\n",
            "\n",
            "Inequality Check:\n",
            "       A      B\n",
            "0  False  False\n",
            "1  False  False\n",
            "2   True   True\n"
          ]
        }
      ]
    },
    {
      "cell_type": "markdown",
      "source": [
        "**TASK - 1 , QUESTION - 1**"
      ],
      "metadata": {
        "id": "-lS9dIN3bkTy"
      }
    },
    {
      "cell_type": "markdown",
      "source": [
        "3)a)Write a NumPy program to create a null vector of size 10 and update sixth value to 11"
      ],
      "metadata": {
        "id": "am8XWICVUMf8"
      }
    },
    {
      "cell_type": "code",
      "source": [
        "# Create a null vector of size 10\n",
        "null_vector = np.zeros(10)\n",
        "# Update the sixth value to 11\n",
        "null_vector[5] = 11\n",
        "\n",
        "print(\"Null vector with the sixth value updated to 11:\", null_vector)"
      ],
      "metadata": {
        "colab": {
          "base_uri": "https://localhost:8080/"
        },
        "id": "EETVbJSVUnSF",
        "outputId": "07eb2c0c-ec20-4958-8917-88b755ea1b13"
      },
      "execution_count": null,
      "outputs": [
        {
          "output_type": "stream",
          "name": "stdout",
          "text": [
            "Null vector with the sixth value updated to 11: [ 0.  0.  0.  0.  0. 11.  0.  0.  0.  0.]\n"
          ]
        }
      ]
    },
    {
      "cell_type": "markdown",
      "source": [
        "b. Write a NumPy program to convert an array to a float type"
      ],
      "metadata": {
        "id": "bB7Wcb3MTC5n"
      }
    },
    {
      "cell_type": "code",
      "source": [
        "# Create an integer array\n",
        "int_array = np.array([1, 2, 3, 4, 5])\n",
        "# Convert the array to float type\n",
        "float_array = int_array.astype(float)\n",
        "print(\"Original integer array:\", int_array)\n",
        "print(\"Array converted to float type:\", float_array)"
      ],
      "metadata": {
        "colab": {
          "base_uri": "https://localhost:8080/"
        },
        "id": "7bQxeZLrUvqM",
        "outputId": "648061f8-fe00-4539-96c0-047c29297a8a"
      },
      "execution_count": null,
      "outputs": [
        {
          "output_type": "stream",
          "name": "stdout",
          "text": [
            "Original integer array: [1 2 3 4 5]\n",
            "Array converted to float type: [1. 2. 3. 4. 5.]\n"
          ]
        }
      ]
    },
    {
      "cell_type": "markdown",
      "source": [
        "c. Write a NumPy program to create a 3x3 matrix with values ranging from 2 to 10"
      ],
      "metadata": {
        "id": "Xf1L6LOJTHZX"
      }
    },
    {
      "cell_type": "code",
      "source": [
        "# Create a 3x3 matrix with values ranging from 2 to 10\n",
        "matrix_3x3 = np.arange(2, 11).reshape(3, 3)\n",
        "\n",
        "print(\"3x3 matrix with values ranging from 2 to 10:\")\n",
        "print(matrix_3x3)"
      ],
      "metadata": {
        "colab": {
          "base_uri": "https://localhost:8080/"
        },
        "id": "SUS6I86GUzFc",
        "outputId": "421d59fe-e9a7-47a8-cabb-389f9a7608b5"
      },
      "execution_count": null,
      "outputs": [
        {
          "output_type": "stream",
          "name": "stdout",
          "text": [
            "3x3 matrix with values ranging from 2 to 10:\n",
            "[[ 2  3  4]\n",
            " [ 5  6  7]\n",
            " [ 8  9 10]]\n"
          ]
        }
      ]
    },
    {
      "cell_type": "markdown",
      "source": [
        "d. Write a NumPy program to convert a list of numeric value into a one - Numpy array"
      ],
      "metadata": {
        "id": "RIBh6CzgTXV-"
      }
    },
    {
      "cell_type": "code",
      "source": [
        "# Create a list of numeric values\n",
        "numeric_list = [1, 2, 3, 4, 5]\n",
        "\n",
        "# Convert the list to a NumPy array\n",
        "numeric_array = np.array(numeric_list)\n",
        "\n",
        "print(\"List converted to NumPy array:\", numeric_array)"
      ],
      "metadata": {
        "colab": {
          "base_uri": "https://localhost:8080/"
        },
        "id": "tEV7N2xCUziE",
        "outputId": "eaeb4730-c331-4399-a3a4-f76c6ed08639"
      },
      "execution_count": null,
      "outputs": [
        {
          "output_type": "stream",
          "name": "stdout",
          "text": [
            "List converted to NumPy array: [1 2 3 4 5]\n"
          ]
        }
      ]
    },
    {
      "cell_type": "markdown",
      "source": [
        "**TASK - 2,QUESTION - 18**"
      ],
      "metadata": {
        "id": "N3CjubzfbtJ6"
      }
    },
    {
      "cell_type": "markdown",
      "source": [
        "4)Perform Reading data from text files, Excel and the web and exploring various commands\n",
        "for doing descriptive analytics on the Iris data set"
      ],
      "metadata": {
        "id": "fh77vc_AVPjP"
      }
    },
    {
      "cell_type": "code",
      "source": [
        "from google.colab import drive\n",
        "drive.mount('/content/gdrive')"
      ],
      "metadata": {
        "colab": {
          "base_uri": "https://localhost:8080/"
        },
        "id": "pUShm8xSVsMs",
        "outputId": "bc0a3e5a-4535-4697-bff0-1b5e095066c5"
      },
      "execution_count": null,
      "outputs": [
        {
          "output_type": "stream",
          "name": "stdout",
          "text": [
            "Mounted at /content/gdrive\n"
          ]
        }
      ]
    },
    {
      "cell_type": "code",
      "source": [
        "data=pd.read_csv(\"/content/gdrive/MyDrive/IRIS.csv\")\n",
        "print(data)"
      ],
      "metadata": {
        "id": "16asJONDVFkw",
        "colab": {
          "base_uri": "https://localhost:8080/"
        },
        "outputId": "094f173f-8c7d-4d2b-e0b1-2297c68b387b"
      },
      "execution_count": null,
      "outputs": [
        {
          "output_type": "stream",
          "name": "stdout",
          "text": [
            "     sepal_length  sepal_width  petal_length  petal_width         species\n",
            "0             5.1          3.5           1.4          0.2     Iris-setosa\n",
            "1             4.9          3.0           1.4          0.2     Iris-setosa\n",
            "2             4.7          3.2           1.3          0.2     Iris-setosa\n",
            "3             4.6          3.1           1.5          0.2     Iris-setosa\n",
            "4             5.0          3.6           1.4          0.2     Iris-setosa\n",
            "..            ...          ...           ...          ...             ...\n",
            "145           6.7          3.0           5.2          2.3  Iris-virginica\n",
            "146           6.3          2.5           5.0          1.9  Iris-virginica\n",
            "147           6.5          3.0           5.2          2.0  Iris-virginica\n",
            "148           6.2          3.4           5.4          2.3  Iris-virginica\n",
            "149           5.9          3.0           5.1          1.8  Iris-virginica\n",
            "\n",
            "[150 rows x 5 columns]\n"
          ]
        }
      ]
    },
    {
      "cell_type": "markdown",
      "source": [
        "**CONVERTING THE TEXT FILE INTO EXCEL**"
      ],
      "metadata": {
        "id": "iA38TWq2l21_"
      }
    },
    {
      "cell_type": "code",
      "source": [
        "data.to_excel(\"/content/gdrive/MyDrive/sample.xlsx\")"
      ],
      "metadata": {
        "id": "6pvE2bNskrgR"
      },
      "execution_count": null,
      "outputs": []
    },
    {
      "cell_type": "markdown",
      "source": [
        "**SHAPE OF THE DATA**"
      ],
      "metadata": {
        "id": "AUp-CQHnfzex"
      }
    },
    {
      "cell_type": "code",
      "source": [
        "data.shape"
      ],
      "metadata": {
        "colab": {
          "base_uri": "https://localhost:8080/"
        },
        "id": "VxV2ovQ6f5FY",
        "outputId": "b2fc9354-07cd-4e5c-aa12-ce8957b7d065"
      },
      "execution_count": null,
      "outputs": [
        {
          "output_type": "execute_result",
          "data": {
            "text/plain": [
              "(150, 5)"
            ]
          },
          "metadata": {},
          "execution_count": 26
        }
      ]
    },
    {
      "cell_type": "markdown",
      "source": [
        "**DESCRIBE() THE IRIS DATA**"
      ],
      "metadata": {
        "id": "BWRMPFeEaHTM"
      }
    },
    {
      "cell_type": "code",
      "source": [
        "data.describe()"
      ],
      "metadata": {
        "colab": {
          "base_uri": "https://localhost:8080/",
          "height": 300
        },
        "id": "-HhmSKsWZN98",
        "outputId": "ebe5b5ab-c56e-45ca-f080-85b3ce1d15e9"
      },
      "execution_count": null,
      "outputs": [
        {
          "output_type": "execute_result",
          "data": {
            "text/plain": [
              "       sepal_length  sepal_width  petal_length  petal_width\n",
              "count    150.000000   150.000000    150.000000   150.000000\n",
              "mean       5.843333     3.054000      3.758667     1.198667\n",
              "std        0.828066     0.433594      1.764420     0.763161\n",
              "min        4.300000     2.000000      1.000000     0.100000\n",
              "25%        5.100000     2.800000      1.600000     0.300000\n",
              "50%        5.800000     3.000000      4.350000     1.300000\n",
              "75%        6.400000     3.300000      5.100000     1.800000\n",
              "max        7.900000     4.400000      6.900000     2.500000"
            ],
            "text/html": [
              "\n",
              "  <div id=\"df-1584db18-2633-4d60-a318-b264233c8187\" class=\"colab-df-container\">\n",
              "    <div>\n",
              "<style scoped>\n",
              "    .dataframe tbody tr th:only-of-type {\n",
              "        vertical-align: middle;\n",
              "    }\n",
              "\n",
              "    .dataframe tbody tr th {\n",
              "        vertical-align: top;\n",
              "    }\n",
              "\n",
              "    .dataframe thead th {\n",
              "        text-align: right;\n",
              "    }\n",
              "</style>\n",
              "<table border=\"1\" class=\"dataframe\">\n",
              "  <thead>\n",
              "    <tr style=\"text-align: right;\">\n",
              "      <th></th>\n",
              "      <th>sepal_length</th>\n",
              "      <th>sepal_width</th>\n",
              "      <th>petal_length</th>\n",
              "      <th>petal_width</th>\n",
              "    </tr>\n",
              "  </thead>\n",
              "  <tbody>\n",
              "    <tr>\n",
              "      <th>count</th>\n",
              "      <td>150.000000</td>\n",
              "      <td>150.000000</td>\n",
              "      <td>150.000000</td>\n",
              "      <td>150.000000</td>\n",
              "    </tr>\n",
              "    <tr>\n",
              "      <th>mean</th>\n",
              "      <td>5.843333</td>\n",
              "      <td>3.054000</td>\n",
              "      <td>3.758667</td>\n",
              "      <td>1.198667</td>\n",
              "    </tr>\n",
              "    <tr>\n",
              "      <th>std</th>\n",
              "      <td>0.828066</td>\n",
              "      <td>0.433594</td>\n",
              "      <td>1.764420</td>\n",
              "      <td>0.763161</td>\n",
              "    </tr>\n",
              "    <tr>\n",
              "      <th>min</th>\n",
              "      <td>4.300000</td>\n",
              "      <td>2.000000</td>\n",
              "      <td>1.000000</td>\n",
              "      <td>0.100000</td>\n",
              "    </tr>\n",
              "    <tr>\n",
              "      <th>25%</th>\n",
              "      <td>5.100000</td>\n",
              "      <td>2.800000</td>\n",
              "      <td>1.600000</td>\n",
              "      <td>0.300000</td>\n",
              "    </tr>\n",
              "    <tr>\n",
              "      <th>50%</th>\n",
              "      <td>5.800000</td>\n",
              "      <td>3.000000</td>\n",
              "      <td>4.350000</td>\n",
              "      <td>1.300000</td>\n",
              "    </tr>\n",
              "    <tr>\n",
              "      <th>75%</th>\n",
              "      <td>6.400000</td>\n",
              "      <td>3.300000</td>\n",
              "      <td>5.100000</td>\n",
              "      <td>1.800000</td>\n",
              "    </tr>\n",
              "    <tr>\n",
              "      <th>max</th>\n",
              "      <td>7.900000</td>\n",
              "      <td>4.400000</td>\n",
              "      <td>6.900000</td>\n",
              "      <td>2.500000</td>\n",
              "    </tr>\n",
              "  </tbody>\n",
              "</table>\n",
              "</div>\n",
              "    <div class=\"colab-df-buttons\">\n",
              "\n",
              "  <div class=\"colab-df-container\">\n",
              "    <button class=\"colab-df-convert\" onclick=\"convertToInteractive('df-1584db18-2633-4d60-a318-b264233c8187')\"\n",
              "            title=\"Convert this dataframe to an interactive table.\"\n",
              "            style=\"display:none;\">\n",
              "\n",
              "  <svg xmlns=\"http://www.w3.org/2000/svg\" height=\"24px\" viewBox=\"0 -960 960 960\">\n",
              "    <path d=\"M120-120v-720h720v720H120Zm60-500h600v-160H180v160Zm220 220h160v-160H400v160Zm0 220h160v-160H400v160ZM180-400h160v-160H180v160Zm440 0h160v-160H620v160ZM180-180h160v-160H180v160Zm440 0h160v-160H620v160Z\"/>\n",
              "  </svg>\n",
              "    </button>\n",
              "\n",
              "  <style>\n",
              "    .colab-df-container {\n",
              "      display:flex;\n",
              "      gap: 12px;\n",
              "    }\n",
              "\n",
              "    .colab-df-convert {\n",
              "      background-color: #E8F0FE;\n",
              "      border: none;\n",
              "      border-radius: 50%;\n",
              "      cursor: pointer;\n",
              "      display: none;\n",
              "      fill: #1967D2;\n",
              "      height: 32px;\n",
              "      padding: 0 0 0 0;\n",
              "      width: 32px;\n",
              "    }\n",
              "\n",
              "    .colab-df-convert:hover {\n",
              "      background-color: #E2EBFA;\n",
              "      box-shadow: 0px 1px 2px rgba(60, 64, 67, 0.3), 0px 1px 3px 1px rgba(60, 64, 67, 0.15);\n",
              "      fill: #174EA6;\n",
              "    }\n",
              "\n",
              "    .colab-df-buttons div {\n",
              "      margin-bottom: 4px;\n",
              "    }\n",
              "\n",
              "    [theme=dark] .colab-df-convert {\n",
              "      background-color: #3B4455;\n",
              "      fill: #D2E3FC;\n",
              "    }\n",
              "\n",
              "    [theme=dark] .colab-df-convert:hover {\n",
              "      background-color: #434B5C;\n",
              "      box-shadow: 0px 1px 3px 1px rgba(0, 0, 0, 0.15);\n",
              "      filter: drop-shadow(0px 1px 2px rgba(0, 0, 0, 0.3));\n",
              "      fill: #FFFFFF;\n",
              "    }\n",
              "  </style>\n",
              "\n",
              "    <script>\n",
              "      const buttonEl =\n",
              "        document.querySelector('#df-1584db18-2633-4d60-a318-b264233c8187 button.colab-df-convert');\n",
              "      buttonEl.style.display =\n",
              "        google.colab.kernel.accessAllowed ? 'block' : 'none';\n",
              "\n",
              "      async function convertToInteractive(key) {\n",
              "        const element = document.querySelector('#df-1584db18-2633-4d60-a318-b264233c8187');\n",
              "        const dataTable =\n",
              "          await google.colab.kernel.invokeFunction('convertToInteractive',\n",
              "                                                    [key], {});\n",
              "        if (!dataTable) return;\n",
              "\n",
              "        const docLinkHtml = 'Like what you see? Visit the ' +\n",
              "          '<a target=\"_blank\" href=https://colab.research.google.com/notebooks/data_table.ipynb>data table notebook</a>'\n",
              "          + ' to learn more about interactive tables.';\n",
              "        element.innerHTML = '';\n",
              "        dataTable['output_type'] = 'display_data';\n",
              "        await google.colab.output.renderOutput(dataTable, element);\n",
              "        const docLink = document.createElement('div');\n",
              "        docLink.innerHTML = docLinkHtml;\n",
              "        element.appendChild(docLink);\n",
              "      }\n",
              "    </script>\n",
              "  </div>\n",
              "\n",
              "\n",
              "<div id=\"df-5fdcc5e1-2345-4b76-aff2-b58615e8a616\">\n",
              "  <button class=\"colab-df-quickchart\" onclick=\"quickchart('df-5fdcc5e1-2345-4b76-aff2-b58615e8a616')\"\n",
              "            title=\"Suggest charts\"\n",
              "            style=\"display:none;\">\n",
              "\n",
              "<svg xmlns=\"http://www.w3.org/2000/svg\" height=\"24px\"viewBox=\"0 0 24 24\"\n",
              "     width=\"24px\">\n",
              "    <g>\n",
              "        <path d=\"M19 3H5c-1.1 0-2 .9-2 2v14c0 1.1.9 2 2 2h14c1.1 0 2-.9 2-2V5c0-1.1-.9-2-2-2zM9 17H7v-7h2v7zm4 0h-2V7h2v10zm4 0h-2v-4h2v4z\"/>\n",
              "    </g>\n",
              "</svg>\n",
              "  </button>\n",
              "\n",
              "<style>\n",
              "  .colab-df-quickchart {\n",
              "      --bg-color: #E8F0FE;\n",
              "      --fill-color: #1967D2;\n",
              "      --hover-bg-color: #E2EBFA;\n",
              "      --hover-fill-color: #174EA6;\n",
              "      --disabled-fill-color: #AAA;\n",
              "      --disabled-bg-color: #DDD;\n",
              "  }\n",
              "\n",
              "  [theme=dark] .colab-df-quickchart {\n",
              "      --bg-color: #3B4455;\n",
              "      --fill-color: #D2E3FC;\n",
              "      --hover-bg-color: #434B5C;\n",
              "      --hover-fill-color: #FFFFFF;\n",
              "      --disabled-bg-color: #3B4455;\n",
              "      --disabled-fill-color: #666;\n",
              "  }\n",
              "\n",
              "  .colab-df-quickchart {\n",
              "    background-color: var(--bg-color);\n",
              "    border: none;\n",
              "    border-radius: 50%;\n",
              "    cursor: pointer;\n",
              "    display: none;\n",
              "    fill: var(--fill-color);\n",
              "    height: 32px;\n",
              "    padding: 0;\n",
              "    width: 32px;\n",
              "  }\n",
              "\n",
              "  .colab-df-quickchart:hover {\n",
              "    background-color: var(--hover-bg-color);\n",
              "    box-shadow: 0 1px 2px rgba(60, 64, 67, 0.3), 0 1px 3px 1px rgba(60, 64, 67, 0.15);\n",
              "    fill: var(--button-hover-fill-color);\n",
              "  }\n",
              "\n",
              "  .colab-df-quickchart-complete:disabled,\n",
              "  .colab-df-quickchart-complete:disabled:hover {\n",
              "    background-color: var(--disabled-bg-color);\n",
              "    fill: var(--disabled-fill-color);\n",
              "    box-shadow: none;\n",
              "  }\n",
              "\n",
              "  .colab-df-spinner {\n",
              "    border: 2px solid var(--fill-color);\n",
              "    border-color: transparent;\n",
              "    border-bottom-color: var(--fill-color);\n",
              "    animation:\n",
              "      spin 1s steps(1) infinite;\n",
              "  }\n",
              "\n",
              "  @keyframes spin {\n",
              "    0% {\n",
              "      border-color: transparent;\n",
              "      border-bottom-color: var(--fill-color);\n",
              "      border-left-color: var(--fill-color);\n",
              "    }\n",
              "    20% {\n",
              "      border-color: transparent;\n",
              "      border-left-color: var(--fill-color);\n",
              "      border-top-color: var(--fill-color);\n",
              "    }\n",
              "    30% {\n",
              "      border-color: transparent;\n",
              "      border-left-color: var(--fill-color);\n",
              "      border-top-color: var(--fill-color);\n",
              "      border-right-color: var(--fill-color);\n",
              "    }\n",
              "    40% {\n",
              "      border-color: transparent;\n",
              "      border-right-color: var(--fill-color);\n",
              "      border-top-color: var(--fill-color);\n",
              "    }\n",
              "    60% {\n",
              "      border-color: transparent;\n",
              "      border-right-color: var(--fill-color);\n",
              "    }\n",
              "    80% {\n",
              "      border-color: transparent;\n",
              "      border-right-color: var(--fill-color);\n",
              "      border-bottom-color: var(--fill-color);\n",
              "    }\n",
              "    90% {\n",
              "      border-color: transparent;\n",
              "      border-bottom-color: var(--fill-color);\n",
              "    }\n",
              "  }\n",
              "</style>\n",
              "\n",
              "  <script>\n",
              "    async function quickchart(key) {\n",
              "      const quickchartButtonEl =\n",
              "        document.querySelector('#' + key + ' button');\n",
              "      quickchartButtonEl.disabled = true;  // To prevent multiple clicks.\n",
              "      quickchartButtonEl.classList.add('colab-df-spinner');\n",
              "      try {\n",
              "        const charts = await google.colab.kernel.invokeFunction(\n",
              "            'suggestCharts', [key], {});\n",
              "      } catch (error) {\n",
              "        console.error('Error during call to suggestCharts:', error);\n",
              "      }\n",
              "      quickchartButtonEl.classList.remove('colab-df-spinner');\n",
              "      quickchartButtonEl.classList.add('colab-df-quickchart-complete');\n",
              "    }\n",
              "    (() => {\n",
              "      let quickchartButtonEl =\n",
              "        document.querySelector('#df-5fdcc5e1-2345-4b76-aff2-b58615e8a616 button');\n",
              "      quickchartButtonEl.style.display =\n",
              "        google.colab.kernel.accessAllowed ? 'block' : 'none';\n",
              "    })();\n",
              "  </script>\n",
              "</div>\n",
              "\n",
              "    </div>\n",
              "  </div>\n"
            ]
          },
          "metadata": {},
          "execution_count": 21
        }
      ]
    },
    {
      "cell_type": "markdown",
      "source": [
        "**NULL VALUE IN AN DATA **"
      ],
      "metadata": {
        "id": "wQJUuPlsaNsD"
      }
    },
    {
      "cell_type": "code",
      "source": [
        "data.isnull().sum()"
      ],
      "metadata": {
        "colab": {
          "base_uri": "https://localhost:8080/"
        },
        "id": "lV6y07OrZBiM",
        "outputId": "135ebc3d-be91-4030-a8d8-ddb2cf3e13bb"
      },
      "execution_count": null,
      "outputs": [
        {
          "output_type": "execute_result",
          "data": {
            "text/plain": [
              "sepal_length    0\n",
              "sepal_width     0\n",
              "petal_length    0\n",
              "petal_width     0\n",
              "species         0\n",
              "dtype: int64"
            ]
          },
          "metadata": {},
          "execution_count": 20
        }
      ]
    },
    {
      "cell_type": "markdown",
      "source": [
        "**INFOMATION ABOUT THE DATA**"
      ],
      "metadata": {
        "id": "IsswEcjUaTXD"
      }
    },
    {
      "cell_type": "code",
      "source": [
        "data.info()"
      ],
      "metadata": {
        "colab": {
          "base_uri": "https://localhost:8080/"
        },
        "id": "hZl8mv5GY5rP",
        "outputId": "ae6c96a5-6263-4e79-a3b4-7f480ee5c7cd"
      },
      "execution_count": null,
      "outputs": [
        {
          "output_type": "stream",
          "name": "stdout",
          "text": [
            "<class 'pandas.core.frame.DataFrame'>\n",
            "RangeIndex: 150 entries, 0 to 149\n",
            "Data columns (total 5 columns):\n",
            " #   Column        Non-Null Count  Dtype  \n",
            "---  ------        --------------  -----  \n",
            " 0   sepal_length  150 non-null    float64\n",
            " 1   sepal_width   150 non-null    float64\n",
            " 2   petal_length  150 non-null    float64\n",
            " 3   petal_width   150 non-null    float64\n",
            " 4   species       150 non-null    object \n",
            "dtypes: float64(4), object(1)\n",
            "memory usage: 6.0+ KB\n"
          ]
        }
      ]
    },
    {
      "cell_type": "markdown",
      "source": [
        "**COUNTS THE VALUES OF SEPAL LENGTH**"
      ],
      "metadata": {
        "id": "Fy8XC3awaYl0"
      }
    },
    {
      "cell_type": "code",
      "source": [
        "data.value_counts(\"sepal_length\")"
      ],
      "metadata": {
        "colab": {
          "base_uri": "https://localhost:8080/"
        },
        "id": "4W4w-kBVZxEr",
        "outputId": "fda9bc06-554e-4d02-900e-a64d25e39387"
      },
      "execution_count": null,
      "outputs": [
        {
          "output_type": "execute_result",
          "data": {
            "text/plain": [
              "sepal_length\n",
              "5.0    10\n",
              "6.3     9\n",
              "5.1     9\n",
              "5.7     8\n",
              "6.7     8\n",
              "6.4     7\n",
              "5.8     7\n",
              "5.5     7\n",
              "5.4     6\n",
              "6.1     6\n",
              "5.6     6\n",
              "6.0     6\n",
              "4.9     6\n",
              "4.8     5\n",
              "6.5     5\n",
              "6.2     4\n",
              "5.2     4\n",
              "4.6     4\n",
              "7.7     4\n",
              "6.9     4\n",
              "7.2     3\n",
              "5.9     3\n",
              "4.4     3\n",
              "6.8     3\n",
              "4.7     2\n",
              "6.6     2\n",
              "7.4     1\n",
              "7.6     1\n",
              "7.3     1\n",
              "4.3     1\n",
              "7.1     1\n",
              "7.0     1\n",
              "5.3     1\n",
              "4.5     1\n",
              "7.9     1\n",
              "dtype: int64"
            ]
          },
          "metadata": {},
          "execution_count": 22
        }
      ]
    },
    {
      "cell_type": "markdown",
      "source": [
        "**TASK - 4,QUESTION - 5**"
      ],
      "metadata": {
        "id": "TzMzB6jDb4Tg"
      }
    },
    {
      "cell_type": "markdown",
      "source": [
        "5)Write a Pandas program to get the first 3 rows of a given DataFrame. Sample Python dictionary data and list labels:\n",
        "exam_data = {'name': ['Anastasia', 'Dima', 'Katherine', 'James', 'Emily', 'Michael', 'Matthew', 'Laura',\n",
        "'Kevin', 'Jonas'],\n",
        "'score': [12.5, 9, 16.5, np.nan, 9, 20, 14.5, np.nan, 8, 19],\n",
        "'attempts': [1, 3, 2, 3, 2, 3, 1, 1, 2, 1],\n",
        "'qualify': ['yes', 'no', 'yes', 'no', 'no', 'yes', 'yes', 'no', 'no', 'yes']}\n",
        "labels = ['a', 'b', 'c', 'd', 'e', 'f', 'g', 'h', 'i', 'j']"
      ],
      "metadata": {
        "id": "Ur_KOiweW-xp"
      }
    },
    {
      "cell_type": "code",
      "source": [
        "# Sample Python dictionary data and list labels\n",
        "exam_data = {'name': ['Anastasia', 'Dima', 'Katherine', 'James', 'Emily', 'Michael', 'Matthew', 'Laura',\n",
        "                      'Kevin', 'Jonas'],\n",
        "             'score': [12.5, 9, 16.5, np.nan, 9, 20, 14.5, np.nan, 8, 19],\n",
        "             'attempts': [1, 3, 2, 3, 2, 3, 1, 1, 2, 1],\n",
        "             'qualify': ['yes', 'no', 'yes', 'no', 'no', 'yes', 'yes', 'no', 'no', 'yes']}\n",
        "labels = ['a', 'b', 'c', 'd', 'e', 'f', 'g', 'h', 'i', 'j']\n",
        "\n",
        "# Create a DataFrame\n",
        "df = pd.DataFrame(exam_data, index=labels)\n",
        "\n",
        "# Get the first 3 rows of the DataFrame\n",
        "first_3_rows = df.head(3)\n",
        "\n",
        "print(\"First 3 rows of the DataFrame:\")\n",
        "print(first_3_rows)"
      ],
      "metadata": {
        "colab": {
          "base_uri": "https://localhost:8080/"
        },
        "id": "2t3DmMCzXooa",
        "outputId": "f59aac39-4461-4620-d14c-f8f7ba7856d1"
      },
      "execution_count": null,
      "outputs": [
        {
          "output_type": "stream",
          "name": "stdout",
          "text": [
            "First 3 rows of the DataFrame:\n",
            "        name  score  attempts qualify\n",
            "a  Anastasia   12.5         1     yes\n",
            "b       Dima    9.0         3      no\n",
            "c  Katherine   16.5         2     yes\n"
          ]
        }
      ]
    },
    {
      "cell_type": "markdown",
      "source": [
        "**TASK - 3,QUESTION  - 15**"
      ],
      "metadata": {
        "id": "tI2AqZS3b939"
      }
    },
    {
      "cell_type": "markdown",
      "source": [
        "6)Write a Pandas program to get the numeric representation of an array by identifying distinct values\n",
        "of a given column of a dataframe."
      ],
      "metadata": {
        "id": "n5sUaTOeYC0c"
      }
    },
    {
      "cell_type": "code",
      "source": [
        "# Sample DataFrame\n",
        "data = {'Name': ['John', 'Alice', 'Bob', 'Alice', 'John', 'Bob'],\n",
        "        'Age': [25, 30, 35, 30, 25, 35],\n",
        "        'City': ['New York', 'Los Angeles', 'Chicago', 'Los Angeles', 'New York', 'Chicago']}\n",
        "\n",
        "df = pd.DataFrame(data)\n",
        "\n",
        "# Choose the column for which you want to get the numeric representation\n",
        "column_name = 'City'\n",
        "\n",
        "# Get the numeric representation of the distinct values in the selected column\n",
        "numeric_representation = pd.factorize(df[column_name])[0]\n",
        "\n",
        "print(f\"Numeric representation of '{column_name}' column:\")\n",
        "print(numeric_representation)"
      ],
      "metadata": {
        "colab": {
          "base_uri": "https://localhost:8080/"
        },
        "id": "_c5A5ebJYExN",
        "outputId": "7322e978-8ffe-4be0-eebd-206bd3d5a109"
      },
      "execution_count": null,
      "outputs": [
        {
          "output_type": "stream",
          "name": "stdout",
          "text": [
            "Numeric representation of 'City' column:\n",
            "[0 1 2 1 0 2]\n"
          ]
        }
      ]
    }
  ]
}